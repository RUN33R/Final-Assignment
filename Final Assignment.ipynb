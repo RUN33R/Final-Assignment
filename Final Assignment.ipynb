{
 "cells": [
  {
   "cell_type": "markdown",
   "id": "a1054de1-ee65-4287-8dae-b705eebe72c5",
   "metadata": {},
   "source": [
    "# Data Science Tools and Ecosystem"
   ]
  },
  {
   "cell_type": "markdown",
   "id": "b1e94147-8664-4f7f-a068-9546911e0222",
   "metadata": {
    "jupyter": {
     "source_hidden": true
    }
   },
   "source": [
    "#### In this notebook, Data Science Tools and Ecosystem are summarized."
   ]
  },
  {
   "cell_type": "markdown",
   "id": "c6bcb190-07c6-4caa-80f6-4129b4368ff7",
   "metadata": {},
   "source": [
    "**objectives**\n",
    "- Popular languages that Data Scientists use\n",
    "- Common libraries for Data Scientists\n",
    "- simple arithmetic expression to mutiply"
   ]
  },
  {
   "cell_type": "markdown",
   "id": "605a5312-0440-4861-8a08-4e316ae6e9b9",
   "metadata": {},
   "source": [
    "##### Some of the popular languages that Data Scientists use are:\n",
    "1. Python\n",
    "2. R\n",
    "3. SQL\n"
   ]
  },
  {
   "cell_type": "markdown",
   "id": "6d8aed36-5bb6-463b-9aaa-ae4649d08c87",
   "metadata": {},
   "source": [
    "##### Some of the commonly used libraries used by Data Scientists include:\n",
    "1. TensorFlow\n",
    "2. NumPy\n",
    "3. SciPy"
   ]
  },
  {
   "cell_type": "markdown",
   "id": "560a70d1-5ad3-4e1e-9ccb-b005db28378a",
   "metadata": {},
   "source": [
    "| Data Science Tools     |\n",
    "|------------------------|\n",
    "| Jupyter Notebook      |\n",
    "| RStudio              |\n",
    "| Apache Zeppelin      |\n"
   ]
  },
  {
   "cell_type": "markdown",
   "id": "9d6d4c89-b6a3-4caf-9597-3ec74d71c18c",
   "metadata": {},
   "source": [
    "### Below are a few examples of evaluating arithmetic expressions in Python.\n"
   ]
  },
  {
   "cell_type": "markdown",
   "id": "ec8260f6-b65a-47b0-8682-4d6befaf5a70",
   "metadata": {},
   "source": [
    "This a simple arithmetic expression to mutiply\n"
   ]
  },
  {
   "cell_type": "code",
   "execution_count": 21,
   "id": "91649239-6954-4450-b683-eb572bc6626d",
   "metadata": {},
   "outputs": [
    {
     "data": {
      "text/plain": [
       "17"
      ]
     },
     "execution_count": 21,
     "metadata": {},
     "output_type": "execute_result"
    }
   ],
   "source": [
    "(3 * 4) + 5"
   ]
  },
  {
   "cell_type": "markdown",
   "id": "9269aa55-9020-4b4c-b9ee-32177d64df89",
   "metadata": {},
   "source": [
    "This will convert 200 minutes to hours by dividing by 60\n"
   ]
  },
  {
   "cell_type": "code",
   "execution_count": 27,
   "id": "dd73cfd2-77b8-4df2-8eeb-6286f3a870ac",
   "metadata": {},
   "outputs": [
    {
     "data": {
      "text/plain": [
       "3.3333333333333335"
      ]
     },
     "execution_count": 27,
     "metadata": {},
     "output_type": "execute_result"
    }
   ],
   "source": [
    "200 / 60"
   ]
  },
  {
   "cell_type": "code",
   "execution_count": null,
   "id": "eb18ffea-4950-4db6-9ac9-9ff5599c0f5a",
   "metadata": {},
   "outputs": [],
   "source": []
  }
 ],
 "metadata": {
  "kernelspec": {
   "display_name": "Python [conda env:base] *",
   "language": "python",
   "name": "conda-base-py"
  },
  "language_info": {
   "codemirror_mode": {
    "name": "ipython",
    "version": 3
   },
   "file_extension": ".py",
   "mimetype": "text/x-python",
   "name": "python",
   "nbconvert_exporter": "python",
   "pygments_lexer": "ipython3",
   "version": "3.12.7"
  }
 },
 "nbformat": 4,
 "nbformat_minor": 5
}
